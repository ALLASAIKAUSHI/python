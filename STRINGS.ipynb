{
  "nbformat": 4,
  "nbformat_minor": 0,
  "metadata": {
    "colab": {
      "name": "STRINGS.ipynb",
      "provenance": [],
      "authorship_tag": "ABX9TyM42fLQhs3yAB+5BhLR7o2J",
      "include_colab_link": true
    },
    "kernelspec": {
      "name": "python3",
      "display_name": "Python 3"
    },
    "language_info": {
      "name": "python"
    }
  },
  "cells": [
    {
      "cell_type": "markdown",
      "metadata": {
        "id": "view-in-github",
        "colab_type": "text"
      },
      "source": [
        "<a href=\"https://colab.research.google.com/github/ALLASAIKAUSHI/python/blob/main/STRINGS.ipynb\" target=\"_parent\"><img src=\"https://colab.research.google.com/assets/colab-badge.svg\" alt=\"Open In Colab\"/></a>"
      ]
    },
    {
      "cell_type": "code",
      "execution_count": 3,
      "metadata": {
        "colab": {
          "base_uri": "https://localhost:8080/"
        },
        "id": "CRFUmQau9-Uz",
        "outputId": "ec063db8-22c9-49e4-8b18-418993929de4"
      },
      "outputs": [
        {
          "output_type": "stream",
          "name": "stdout",
          "text": [
            "['Transformers']\n"
          ]
        }
      ],
      "source": [
        "a=['Transformers']\n",
        "print(a)"
      ]
    },
    {
      "cell_type": "code",
      "source": [
        "a = '''Lorem ipsum dolor sit amet,\n",
        "consectetur adipiscing elit,\n",
        "sed do eiusmod tempor incididunt\n",
        "ut labore et dolore magna aliqua.'''\n",
        "print(len(a))\n",
        "print(a)\n"
      ],
      "metadata": {
        "colab": {
          "base_uri": "https://localhost:8080/"
        },
        "id": "VYVurbS7-tyo",
        "outputId": "5e36a96a-82c4-480a-bbd0-34439aef46db"
      },
      "execution_count": 5,
      "outputs": [
        {
          "output_type": "stream",
          "name": "stdout",
          "text": [
            "123\n",
            "Lorem ipsum dolor sit amet,\n",
            "consectetur adipiscing elit,\n",
            "sed do eiusmod tempor incididunt\n",
            "ut labore et dolore magna aliqua.\n"
          ]
        }
      ]
    },
    {
      "cell_type": "code",
      "source": [
        "##checking a string is existing or not \n",
        "a='''Hello i am kaushik student of \n",
        "     Gitam college.'''\n",
        "print(\"K\"in a)"
      ],
      "metadata": {
        "colab": {
          "base_uri": "https://localhost:8080/"
        },
        "id": "eNjwpgDk_t8R",
        "outputId": "65717fbe-efd2-4b1d-b260-34d82a81ac8b"
      },
      "execution_count": 9,
      "outputs": [
        {
          "output_type": "stream",
          "name": "stdout",
          "text": [
            "False\n"
          ]
        }
      ]
    },
    {
      "cell_type": "code",
      "source": [
        "##checking a string is existing or not \n",
        "a='''Hello i am kaushik student of \n",
        "     Gitam college.'''\n",
        "print(\"H\"in a)"
      ],
      "metadata": {
        "colab": {
          "base_uri": "https://localhost:8080/"
        },
        "id": "W87GfDpnA5Uw",
        "outputId": "d17ccf09-5640-4eb4-be63-c201eb0ca968"
      },
      "execution_count": 10,
      "outputs": [
        {
          "output_type": "stream",
          "name": "stdout",
          "text": [
            "True\n"
          ]
        }
      ]
    },
    {
      "cell_type": "code",
      "source": [
        "##checking a string is existing or not \n",
        "a='''Hello i am kaushik student of \n",
        "     Gitam college.'''\n",
        "print(\"K\"in a)\n",
        "print('ude'in a)"
      ],
      "metadata": {
        "colab": {
          "base_uri": "https://localhost:8080/"
        },
        "id": "hmv8hpBwBBOO",
        "outputId": "67e977d3-49ec-4e56-c9b5-8d1da39d7c8a"
      },
      "execution_count": 13,
      "outputs": [
        {
          "output_type": "stream",
          "name": "stdout",
          "text": [
            "False\n",
            "True\n"
          ]
        }
      ]
    },
    {
      "cell_type": "code",
      "source": [
        "##checking a string is existing or not \n",
        "a='''Hello i am kaushik student of \n",
        "     Gitam college.'''\n",
        "print(\"k\" in a)\n",
        "print(\"college\"not in a)"
      ],
      "metadata": {
        "colab": {
          "base_uri": "https://localhost:8080/"
        },
        "id": "B7qxcBIUBzrg",
        "outputId": "00d1d7b2-7b0b-4441-a7e8-16d44e2040e1"
      },
      "execution_count": 16,
      "outputs": [
        {
          "output_type": "stream",
          "name": "stdout",
          "text": [
            "True\n",
            "False\n"
          ]
        }
      ]
    },
    {
      "cell_type": "code",
      "source": [
        "##checking a string is existing or not \n",
        "a='''Hello i am kaushik student of \n",
        "     Gitam college.'''\n",
        "print(\"K\"in a)\n",
        "print(\"college\"in a,\"sir\"in a)"
      ],
      "metadata": {
        "colab": {
          "base_uri": "https://localhost:8080/"
        },
        "id": "MbDQtX2vCUJ2",
        "outputId": "97f872f1-45b3-4000-a461-2865418c2337"
      },
      "execution_count": 17,
      "outputs": [
        {
          "output_type": "stream",
          "name": "stdout",
          "text": [
            "False\n",
            "True False\n"
          ]
        }
      ]
    },
    {
      "cell_type": "code",
      "source": [
        "##checking a string is existing or not \n",
        "a='''Hello i am kaushik student of \n",
        "     Gitam college.'''\n",
        "print(\"K\"in a)\n",
        "print(\"college\"not in a,\"kaushik\"in a)"
      ],
      "metadata": {
        "colab": {
          "base_uri": "https://localhost:8080/"
        },
        "id": "DmoQVigGCkWs",
        "outputId": "fb61e58e-60dc-4fdd-f5cc-a358c62a648c"
      },
      "execution_count": 18,
      "outputs": [
        {
          "output_type": "stream",
          "name": "stdout",
          "text": [
            "False\n",
            "False True\n"
          ]
        }
      ]
    },
    {
      "cell_type": "code",
      "source": [
        "## SLICING OF THE STRING\n",
        "a=\"I want to get a job and well settled in america\"\n",
        "print(a[2:11])"
      ],
      "metadata": {
        "colab": {
          "base_uri": "https://localhost:8080/"
        },
        "id": "lU8Rs_A4Cy_e",
        "outputId": "9edd8d06-ca71-4ef7-a070-a0442bb27c3e"
      },
      "execution_count": 30,
      "outputs": [
        {
          "output_type": "stream",
          "name": "stdout",
          "text": [
            "want to g\n"
          ]
        }
      ]
    },
    {
      "cell_type": "code",
      "source": [
        "## MODIFYING A STRING\n",
        "a = \"hi friends\"\n",
        "b=\"kaushik\"\n",
        "print(a.upper())\n",
        "print(a.lower())\n",
        "print(b.lower())\n",
        "print(b.upper())\n",
        "\n",
        "\n",
        "\n",
        "\n"
      ],
      "metadata": {
        "colab": {
          "base_uri": "https://localhost:8080/"
        },
        "id": "1sIgf6t8FljX",
        "outputId": "ff98315b-e688-4dc2-94c0-b70e2f2a6103"
      },
      "execution_count": 37,
      "outputs": [
        {
          "output_type": "stream",
          "name": "stdout",
          "text": [
            "HI FRIENDS\n",
            "hi friends\n",
            "kaushik\n",
            "KAUSHIK\n"
          ]
        }
      ]
    },
    {
      "cell_type": "code",
      "source": [
        "# REMOVING WHITE SPACE IN A STRING\n",
        "a =\"     SUBS\"    \"CRIBE\"    \n",
        "print(a.strip())\n"
      ],
      "metadata": {
        "colab": {
          "base_uri": "https://localhost:8080/"
        },
        "id": "Eti2w48nHlMv",
        "outputId": "7fd089da-1ff7-418d-844c-c1b84b18dc51"
      },
      "execution_count": 46,
      "outputs": [
        {
          "output_type": "stream",
          "name": "stdout",
          "text": [
            "SUBSCRIBE\n"
          ]
        }
      ]
    },
    {
      "cell_type": "code",
      "source": [
        "## REPLACING OF A STRING\n",
        "a = \"Hello, World!\"\n",
        "b = \"Hlo , There\"\n",
        "print(a.replace(\"H\",\"k\"),a.replace(\"e\",\"d\"))\n",
        "print(b.replace(\"H\",\"J\"))\n",
        "\n",
        "\n"
      ],
      "metadata": {
        "colab": {
          "base_uri": "https://localhost:8080/"
        },
        "id": "rejmQ71IIWuu",
        "outputId": "535d23c8-7cb5-4685-c361-ac31f8271c61"
      },
      "execution_count": 60,
      "outputs": [
        {
          "output_type": "stream",
          "name": "stdout",
          "text": [
            "kello, World! Hdllo, World!\n",
            "Jlo , There\n"
          ]
        }
      ]
    },
    {
      "cell_type": "code",
      "source": [
        "##SPLIT STRING\n",
        "a = \"Sai, kaushik\"\n",
        "print(a.split(\",\")) \n"
      ],
      "metadata": {
        "colab": {
          "base_uri": "https://localhost:8080/"
        },
        "id": "ajqmbKfCLR13",
        "outputId": "37efb3a3-918f-4ca4-b8c3-ec72e70b0ea2"
      },
      "execution_count": 62,
      "outputs": [
        {
          "output_type": "stream",
          "name": "stdout",
          "text": [
            "['Sai', ' kaushik']\n"
          ]
        }
      ]
    },
    {
      "cell_type": "code",
      "source": [
        "##String Concatenation\n",
        "a = \"Trans\"\n",
        "b = \"formers\"\n",
        "c = a + b\n",
        "print(c)\n",
        "c = a + \" \" + b\n",
        "print(c)"
      ],
      "metadata": {
        "colab": {
          "base_uri": "https://localhost:8080/"
        },
        "id": "s10lyRjjMHGm",
        "outputId": "d229fae5-e41d-4e56-a3cb-64cdb62bde39"
      },
      "execution_count": 65,
      "outputs": [
        {
          "output_type": "stream",
          "name": "stdout",
          "text": [
            "Transformers\n",
            "Trans formers\n"
          ]
        }
      ]
    },
    {
      "cell_type": "code",
      "source": [
        "##STRING FORMAT\n",
        "age = 18\n",
        "txt = \"My name is Kaushik, I am {}\"\n",
        "print(txt.format(age))\n"
      ],
      "metadata": {
        "colab": {
          "base_uri": "https://localhost:8080/"
        },
        "id": "hr3vPz12Mr0W",
        "outputId": "5f0ba6fd-448f-4ac5-a08d-6ba7bd035f1b"
      },
      "execution_count": 68,
      "outputs": [
        {
          "output_type": "stream",
          "name": "stdout",
          "text": [
            "My name is Kaushik, I am 18\n"
          ]
        }
      ]
    },
    {
      "cell_type": "code",
      "source": [
        "quantity = 3\n",
        "chips= 10\n",
        "price = 30\n",
        "myorder = \"I want to pay {} packets of rupees {} for {} rupees.\"\n",
        "print(myorder.format(quantity, chips, price))\n",
        "\n",
        "quantity = 3\n",
        "itemno = 567\n",
        "price = 49.95\n",
        "myorder = \"I want to pay {2} dollars for {0} pieces of item {1}.\"\n",
        "print(myorder.format(quantity, itemno, price))"
      ],
      "metadata": {
        "colab": {
          "base_uri": "https://localhost:8080/"
        },
        "id": "mq691tBrNd4P",
        "outputId": "5534e843-a371-4e44-bd81-6c9d344a6d55"
      },
      "execution_count": 77,
      "outputs": [
        {
          "output_type": "stream",
          "name": "stdout",
          "text": [
            "I want to pay 3 packets of rupees 10 for 30 rupees.\n",
            "I want to pay 49.95 dollars for 3 pieces of item 567.\n"
          ]
        }
      ]
    },
    {
      "cell_type": "code",
      "source": [
        "## ESCAPE CHARACTERS\n",
        "txt = \"Trans\\nformers\"\n",
        "print(txt)"
      ],
      "metadata": {
        "colab": {
          "base_uri": "https://localhost:8080/"
        },
        "id": "PHzddsjMP1KO",
        "outputId": "5214c498-a670-4b6c-b761-e095d35b627b"
      },
      "execution_count": 83,
      "outputs": [
        {
          "output_type": "stream",
          "name": "stdout",
          "text": [
            "Trans\n",
            "formers\n"
          ]
        }
      ]
    },
    {
      "cell_type": "code",
      "source": [
        "## CAPITLIZING METHOD\n",
        "txt= \"hlo, Kaushik\"\n",
        "x = txt.capitalize()\n",
        "print(x)"
      ],
      "metadata": {
        "colab": {
          "base_uri": "https://localhost:8080/"
        },
        "id": "ab-TXwL3RlK8",
        "outputId": "b709a74d-6875-4b44-f7d7-81cf458dd3c5"
      },
      "execution_count": 86,
      "outputs": [
        {
          "output_type": "stream",
          "name": "stdout",
          "text": [
            "Hlo, kaushik\n"
          ]
        }
      ]
    },
    {
      "cell_type": "code",
      "source": [
        "## SWAPING METHOD\n",
        "txt = \"Hello My Name Is PETER\"\n",
        "\n",
        "x = txt.swapcase()\n",
        "\n",
        "print(x)"
      ],
      "metadata": {
        "colab": {
          "base_uri": "https://localhost:8080/"
        },
        "id": "FJ8FpczGStzf",
        "outputId": "f57a8252-fca0-4610-bd8a-976896ef20e0"
      },
      "execution_count": 87,
      "outputs": [
        {
          "output_type": "stream",
          "name": "stdout",
          "text": [
            "hELLO mY nAME iS peter\n"
          ]
        }
      ]
    }
  ]
}