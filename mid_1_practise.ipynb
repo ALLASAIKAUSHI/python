{
  "nbformat": 4,
  "nbformat_minor": 0,
  "metadata": {
    "colab": {
      "name": "mid 1 practise.ipynb",
      "provenance": [],
      "collapsed_sections": [],
      "authorship_tag": "ABX9TyOMTvJKZ57DGySSYvydA3MA",
      "include_colab_link": true
    },
    "kernelspec": {
      "name": "python3",
      "display_name": "Python 3"
    },
    "language_info": {
      "name": "python"
    }
  },
  "cells": [
    {
      "cell_type": "markdown",
      "metadata": {
        "id": "view-in-github",
        "colab_type": "text"
      },
      "source": [
        "<a href=\"https://colab.research.google.com/github/ALLASAIKAUSHI/python/blob/MODULE-5/mid_1_practise.ipynb\" target=\"_parent\"><img src=\"https://colab.research.google.com/assets/colab-badge.svg\" alt=\"Open In Colab\"/></a>"
      ]
    },
    {
      "cell_type": "code",
      "execution_count": null,
      "metadata": {
        "colab": {
          "base_uri": "https://localhost:8080/",
          "height": 130
        },
        "id": "4i9AejU3aS8h",
        "outputId": "76d9bfb6-6279-44f1-8086-830e1528ba06"
      },
      "outputs": [
        {
          "output_type": "error",
          "ename": "IndentationError",
          "evalue": "ignored",
          "traceback": [
            "\u001b[0;36m  File \u001b[0;32m\"<ipython-input-13-145449b904a3>\"\u001b[0;36m, line \u001b[0;32m5\u001b[0m\n\u001b[0;31m    for i in range(2,i):\u001b[0m\n\u001b[0m                        ^\u001b[0m\n\u001b[0;31mIndentationError\u001b[0m\u001b[0;31m:\u001b[0m unindent does not match any outer indentation level\n"
          ]
        }
      ],
      "source": [
        "## write a program to print prime numbers in given range by using function the range value is 25 to 50\n",
        "def prime():\n",
        "  for i in range (25,50+1):\n",
        "    \n",
        "      if(x>1):\n",
        "    for i in range(2,i):\n",
        "      if(x%i=0)\n",
        "        break;\n",
        "    else:\n",
        "      print(x)\n",
        "prime(l,m)       "
      ]
    },
    {
      "cell_type": "code",
      "source": [
        "## write a program to read any month in integer and display days for that month\n",
        "a=int(input())\n",
        "if (a==1 or a==3 or a==5 or a==7 or a==8 or a==10 or a==12):\n",
        "  print(\"31 days\")\n",
        "elif (a==4 or a==6 or a==9 or a==11):\n",
        "  print(\"30 days\")\n",
        "elif(a==2):\n",
        "  print(\"28 days\")\n",
        "else:\n",
        "  print(\"no months\")"
      ],
      "metadata": {
        "colab": {
          "base_uri": "https://localhost:8080/"
        },
        "id": "mWhAypTEarNK",
        "outputId": "08e3a77e-9c7e-46ad-de95-8b2e03e7c8d1"
      },
      "execution_count": null,
      "outputs": [
        {
          "output_type": "stream",
          "name": "stdout",
          "text": [
            "3\n",
            "31 days\n"
          ]
        }
      ]
    },
    {
      "cell_type": "code",
      "source": [
        "## write a python program to print even length words in a string\n",
        "## input \"this is python class\"\n",
        "## output \"This is python\"\n",
        "s =  \"This is python class\"\n",
        "s=s.split(' ')\n",
        "for x in s:\n",
        "  if len(x)%2==0:\n",
        "    print(x,end=' ')\n"
      ],
      "metadata": {
        "colab": {
          "base_uri": "https://localhost:8080/"
        },
        "id": "vritlP-6a2qg",
        "outputId": "e4094490-42a6-4526-f199-d3ad9b7db341"
      },
      "execution_count": null,
      "outputs": [
        {
          "output_type": "stream",
          "name": "stdout",
          "text": [
            "This is python "
          ]
        }
      ]
    },
    {
      "cell_type": "code",
      "source": [
        "## a. write a python program to capitalize the first and last letter of each word\n",
        "a=str(input())\n",
        "b=a.split()\n",
        "for i in b:\n",
        "  x=i.capitalize()\n",
        "  print(x) \n",
        "\n",
        "  \n"
      ],
      "metadata": {
        "colab": {
          "base_uri": "https://localhost:8080/"
        },
        "id": "cLEkGGQvbk04",
        "outputId": "3eedde4d-be43-4f4f-8593-f7e10a028b0e"
      },
      "execution_count": null,
      "outputs": [
        {
          "output_type": "stream",
          "name": "stdout",
          "text": [
            "gfd gfs v\n",
            "Gfd\n",
            "Gfs\n",
            "V\n",
            "Hello My Name Is Peter\n"
          ]
        }
      ]
    },
    {
      "cell_type": "code",
      "source": [
        "## b. write a program to read a string from user display first character of each word with capital\n",
        "a=str(input())\n",
        "b=a.split(' ')\n",
        "z=(\" \")\n",
        "for i in b:\n",
        "  x=i.capitalize()\n",
        "  y=i[-1].capitalize()\n",
        "  z=x[0:-1]+y\n",
        "  print(z, end=\" \")\n"
      ],
      "metadata": {
        "colab": {
          "base_uri": "https://localhost:8080/"
        },
        "id": "3lj2F7xlEovg",
        "outputId": "d11546fd-a0f3-44a2-871a-eae578041453"
      },
      "execution_count": 3,
      "outputs": [
        {
          "output_type": "stream",
          "name": "stdout",
          "text": [
            "i am alone\n",
            "I AM AlonE "
          ]
        }
      ]
    },
    {
      "cell_type": "code",
      "source": [
        "##  write a python program to convert a list of multiple integers into a single integer\n",
        "## input [11,33,50]\n",
        "## output [113350]"
      ],
      "metadata": {
        "id": "KAMIV8KTb4QJ"
      },
      "execution_count": null,
      "outputs": []
    },
    {
      "cell_type": "code",
      "source": [
        "a=eval(input())\n",
        "b=\" \"\n",
        "for i in a:\n",
        "  b+str(i)\n",
        "print(b)v"
      ],
      "metadata": {
        "id": "QdixQyZwcooc",
        "colab": {
          "base_uri": "https://localhost:8080/",
          "height": 130
        },
        "outputId": "d7ba01a7-44f0-444a-d93d-1ca53a5fec52"
      },
      "execution_count": 2,
      "outputs": [
        {
          "output_type": "error",
          "ename": "SyntaxError",
          "evalue": "ignored",
          "traceback": [
            "\u001b[0;36m  File \u001b[0;32m\"<ipython-input-2-f491c3c47c41>\"\u001b[0;36m, line \u001b[0;32m5\u001b[0m\n\u001b[0;31m    print(b)v\u001b[0m\n\u001b[0m            ^\u001b[0m\n\u001b[0;31mSyntaxError\u001b[0m\u001b[0;31m:\u001b[0m invalid syntax\n"
          ]
        }
      ]
    }
  ]
}