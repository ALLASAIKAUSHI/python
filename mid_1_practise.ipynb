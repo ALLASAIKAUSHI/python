{
  "nbformat": 4,
  "nbformat_minor": 0,
  "metadata": {
    "colab": {
      "name": "mid 1 practise.ipynb",
      "provenance": [],
      "collapsed_sections": [],
      "authorship_tag": "ABX9TyNoqati9LDeOVQwdIs/JTMp",
      "include_colab_link": true
    },
    "kernelspec": {
      "name": "python3",
      "display_name": "Python 3"
    },
    "language_info": {
      "name": "python"
    }
  },
  "cells": [
    {
      "cell_type": "markdown",
      "metadata": {
        "id": "view-in-github",
        "colab_type": "text"
      },
      "source": [
        "<a href=\"https://colab.research.google.com/github/ALLASAIKAUSHI/python/blob/MODULE-5/mid_1_practise.ipynb\" target=\"_parent\"><img src=\"https://colab.research.google.com/assets/colab-badge.svg\" alt=\"Open In Colab\"/></a>"
      ]
    },
    {
      "cell_type": "code",
      "execution_count": null,
      "metadata": {
        "colab": {
          "base_uri": "https://localhost:8080/",
          "height": 130
        },
        "id": "4i9AejU3aS8h",
        "outputId": "76d9bfb6-6279-44f1-8086-830e1528ba06"
      },
      "outputs": [
        {
          "output_type": "error",
          "ename": "IndentationError",
          "evalue": "ignored",
          "traceback": [
            "\u001b[0;36m  File \u001b[0;32m\"<ipython-input-13-145449b904a3>\"\u001b[0;36m, line \u001b[0;32m5\u001b[0m\n\u001b[0;31m    for i in range(2,i):\u001b[0m\n\u001b[0m                        ^\u001b[0m\n\u001b[0;31mIndentationError\u001b[0m\u001b[0;31m:\u001b[0m unindent does not match any outer indentation level\n"
          ]
        }
      ],
      "source": [
        "## write a program to print prime numbers in given range by using function the range value is 25 to 50\n",
        "def prime():\n",
        "  for i in range (25,50+1):\n",
        "    \n",
        "      if(x>1):\n",
        "    for i in range(2,i):\n",
        "      if(x%i=0)\n",
        "        break;\n",
        "    else:\n",
        "      print(x)\n",
        "prime(l,m)       "
      ]
    },
    {
      "cell_type": "code",
      "source": [
        "## write a program to read any month in integer and display days for that month\n",
        "a=int(input())\n",
        "if (a==1 or a==3 or a==5 or a==7 or a==8 or a==10 or a==12):\n",
        "  print(\"31 days\")\n",
        "elif (a==4 or a==6 or a==9 or a==11):\n",
        "  print(\"30 days\")\n",
        "elif(a==2):\n",
        "  print(\"28 days\")\n",
        "else:\n",
        "  print(\"no months\")"
      ],
      "metadata": {
        "colab": {
          "base_uri": "https://localhost:8080/"
        },
        "id": "mWhAypTEarNK",
        "outputId": "08e3a77e-9c7e-46ad-de95-8b2e03e7c8d1"
      },
      "execution_count": null,
      "outputs": [
        {
          "output_type": "stream",
          "name": "stdout",
          "text": [
            "3\n",
            "31 days\n"
          ]
        }
      ]
    },
    {
      "cell_type": "code",
      "source": [
        "## write a python program to print even length words in a string\n",
        "## input \"this is python class\"\n",
        "## output \"This is python\"\n",
        "s =  \"This is python class\"\n",
        "s=s.split(' ')\n",
        "for x in s:\n",
        "  if len(x)%2==0:\n",
        "    print(x,end=' ')\n"
      ],
      "metadata": {
        "colab": {
          "base_uri": "https://localhost:8080/"
        },
        "id": "vritlP-6a2qg",
        "outputId": "e4094490-42a6-4526-f199-d3ad9b7db341"
      },
      "execution_count": null,
      "outputs": [
        {
          "output_type": "stream",
          "name": "stdout",
          "text": [
            "This is python "
          ]
        }
      ]
    },
    {
      "cell_type": "code",
      "source": [
        "## a. write a python program to capitalize the first and last letter of each word\n",
        "a=str(input())\n",
        "b=a.split()\n",
        "for i in b:\n",
        "  x=i.capitalize()\n",
        "  print(x) \n",
        "\n",
        "  \n"
      ],
      "metadata": {
        "colab": {
          "base_uri": "https://localhost:8080/"
        },
        "id": "cLEkGGQvbk04",
        "outputId": "3eedde4d-be43-4f4f-8593-f7e10a028b0e"
      },
      "execution_count": null,
      "outputs": [
        {
          "output_type": "stream",
          "name": "stdout",
          "text": [
            "gfd gfs v\n",
            "Gfd\n",
            "Gfs\n",
            "V\n",
            "Hello My Name Is Peter\n"
          ]
        }
      ]
    },
    {
      "cell_type": "code",
      "source": [
        "## b. write a program to read a string from user display first character of each word with capital\n",
        "a=str(input())\n",
        "b=a.split(' ')\n",
        "z=(\" \")\n",
        "for i in b:\n",
        "  x=i.capitalize()\n",
        "  y=i[-1].capitalize()\n",
        "  z=x[0:-1]+y\n",
        "  print(z, end=\" \")\n"
      ],
      "metadata": {
        "colab": {
          "base_uri": "https://localhost:8080/"
        },
        "id": "3lj2F7xlEovg",
        "outputId": "d11546fd-a0f3-44a2-871a-eae578041453"
      },
      "execution_count": null,
      "outputs": [
        {
          "output_type": "stream",
          "name": "stdout",
          "text": [
            "i am alone\n",
            "I AM AlonE "
          ]
        }
      ]
    },
    {
      "cell_type": "code",
      "source": [
        "##  write a python program to convert a list of multiple integers into a single integer\n",
        "## input [11,33,50]\n",
        "## output [113350]\n",
        "a=eval(input())\n",
        "b=\" \"\n",
        "for i in a:\n",
        "  b+=str(i)\n",
        "print(b)"
      ],
      "metadata": {
        "id": "QdixQyZwcooc",
        "colab": {
          "base_uri": "https://localhost:8080/"
        },
        "outputId": "64a74540-3ebb-4b11-c1f3-ea6bcd32aaf7"
      },
      "execution_count": 2,
      "outputs": [
        {
          "output_type": "stream",
          "name": "stdout",
          "text": [
            "[11,33,50]\n",
            " 113350\n"
          ]
        }
      ]
    },
    {
      "cell_type": "code",
      "source": [
        "## DAY 2\n",
        "## write a python program to find power of number with recursion and without recursion\n",
        "## input N=2 , P=3\n",
        "## output : 8\n",
        "n=int(input())\n",
        "p=int(input())     ## without recursion\n",
        "k=print(pow(n,p))\n"
      ],
      "metadata": {
        "id": "kgd8ZdljJuvb",
        "outputId": "805b3a5c-ed36-4091-8636-58a82e575ded",
        "colab": {
          "base_uri": "https://localhost:8080/"
        }
      },
      "execution_count": 3,
      "outputs": [
        {
          "output_type": "stream",
          "name": "stdout",
          "text": [
            "2\n",
            "3\n",
            "8\n"
          ]
        }
      ]
    },
    {
      "cell_type": "code",
      "source": [
        "## with recursion\n"
      ],
      "metadata": {
        "id": "-06m6pU-MCKq"
      },
      "execution_count": null,
      "outputs": []
    },
    {
      "cell_type": "code",
      "source": [
        "## write a program to sort tuples by total digits \n",
        "## input : list=[(3,4,6,723),(1,2),(134,234,34)]\n",
        "## output : ascending order output\n",
        "lists=[(3,4,6,723),(1,2),(134,234,34)]\n",
        "lists.sort()\n",
        "lists"
      ],
      "metadata": {
        "id": "ncguLgBoJ8B7",
        "outputId": "06fcce9c-96de-4850-edd6-0b669dbf6416",
        "colab": {
          "base_uri": "https://localhost:8080/"
        }
      },
      "execution_count": 7,
      "outputs": [
        {
          "output_type": "execute_result",
          "data": {
            "text/plain": [
              "[(1, 2), (3, 4, 6, 723), (134, 234, 34)]"
            ]
          },
          "metadata": {},
          "execution_count": 7
        }
      ]
    },
    {
      "cell_type": "code",
      "source": [
        "## take 5 subjects marks from user and display the grade of the student\n",
        "## condition: if average is 90-100 A+\n",
        "a=int(input())\n",
        "b=int(input())\n",
        "c=int(input())\n",
        "d=int(input())\n",
        "e=int(input())\n",
        "avg=(a+b+c+d+e)/5\n",
        "if avg>=90:\n",
        "  print(\"a grade\")\n",
        "elif avg>=80:\n",
        "  print(\"b grade\")\n",
        "elif avg>=70:\n",
        "  print(\"c grade\")\n",
        "elif avg>=60:\n",
        "  print(\"d grade\")\n",
        "else:\n",
        "  print(\"fail\")"
      ],
      "metadata": {
        "id": "7NyWGsUaKoX8",
        "outputId": "d30c0c92-ba82-4eab-8639-7b68f95afa83",
        "colab": {
          "base_uri": "https://localhost:8080/"
        }
      },
      "execution_count": 5,
      "outputs": [
        {
          "output_type": "stream",
          "name": "stdout",
          "text": [
            "98\n",
            "85\n",
            "89\n",
            "98\n",
            "95\n",
            "a grade\n"
          ]
        }
      ]
    },
    {
      "cell_type": "code",
      "source": [
        "## write a python program that prints one if all the three given numbers are in ascending order\n"
      ],
      "metadata": {
        "id": "D2iQ8WCqLRmm"
      },
      "execution_count": null,
      "outputs": []
    },
    {
      "cell_type": "code",
      "source": [
        "## check given number is perfect number or not"
      ],
      "metadata": {
        "id": "6XF1ecRaLxfE"
      },
      "execution_count": null,
      "outputs": []
    },
    {
      "cell_type": "code",
      "source": [
        "## check the given string is palindrome or not\n",
        "a=input()\n",
        "b=a[::-1]\n",
        "if(a==b):\n",
        "  print(\"palin\")\n",
        "else:\n",
        "  print(\"not a palin\")"
      ],
      "metadata": {
        "id": "kqr0DFerMOpb",
        "outputId": "ac52b6cf-1165-42fb-fd7f-378a2d7d4417",
        "colab": {
          "base_uri": "https://localhost:8080/"
        }
      },
      "execution_count": 8,
      "outputs": [
        {
          "output_type": "stream",
          "name": "stdout",
          "text": [
            "alla\n",
            "palin\n"
          ]
        }
      ]
    },
    {
      "cell_type": "code",
      "source": [
        "## print sum of even digits in a given number"
      ],
      "metadata": {
        "id": "6D-4Mka4MfGT"
      },
      "execution_count": null,
      "outputs": []
    },
    {
      "cell_type": "code",
      "source": [
        "## write a program to calculate sum of squares of digits of a number given by user123 1^2+2^2+3^3=14"
      ],
      "metadata": {
        "id": "AuLxlkCjNEUc"
      },
      "execution_count": null,
      "outputs": []
    },
    {
      "cell_type": "code",
      "source": [
        "## given a string s,\n",
        "## input:abcdefcba. how many times ith output ith output is 3\n",
        "## print count back matches "
      ],
      "metadata": {
        "id": "o0sqlow2Nc4r"
      },
      "execution_count": null,
      "outputs": []
    },
    {
      "cell_type": "code",
      "source": [
        "## given an integer n,returning a list contaning 11223334444 and finally n repeated n times(n>0)\n",
        "## print(repeatnumber(4))"
      ],
      "metadata": {
        "id": "cIHx8aLTOJJl"
      },
      "execution_count": null,
      "outputs": []
    },
    {
      "cell_type": "code",
      "source": [
        "## print number of vowels and consonants in a string"
      ],
      "metadata": {
        "id": "gjbBm_HWPZU1"
      },
      "execution_count": null,
      "outputs": []
    },
    {
      "cell_type": "code",
      "source": [
        "## given two integers a and b if a is less than, print all numbers between ascending order.if a is greater than b print all numbers in descending order"
      ],
      "metadata": {
        "id": "oVm78JZJPahM"
      },
      "execution_count": null,
      "outputs": []
    },
    {
      "cell_type": "code",
      "source": [
        "## program to print max number among three numbers "
      ],
      "metadata": {
        "id": "yPXj7XHpQBuf"
      },
      "execution_count": null,
      "outputs": []
    },
    {
      "cell_type": "code",
      "source": [
        "## write a program to count the number of strings where the string length is two or more and the first and last character are same from given list of strings"
      ],
      "metadata": {
        "id": "RM3WvC26QB6k"
      },
      "execution_count": null,
      "outputs": []
    },
    {
      "cell_type": "code",
      "source": [
        "## "
      ],
      "metadata": {
        "id": "6L4t3zlbQuwl"
      },
      "execution_count": null,
      "outputs": []
    },
    {
      "cell_type": "code",
      "source": [
        "## given a list of students and a character ,display the names of students whose first letter is given character"
      ],
      "metadata": {
        "id": "6ivecb9ISJi-"
      },
      "execution_count": null,
      "outputs": []
    },
    {
      "cell_type": "code",
      "source": [
        "## given a list of city names whose length is greater than given length"
      ],
      "metadata": {
        "id": "KqN5V2y1SjK_"
      },
      "execution_count": null,
      "outputs": []
    }
  ]
}