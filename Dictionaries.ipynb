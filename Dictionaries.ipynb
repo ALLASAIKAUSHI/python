{
  "nbformat": 4,
  "nbformat_minor": 0,
  "metadata": {
    "colab": {
      "name": "Dictionaries.ipynb",
      "provenance": [],
      "authorship_tag": "ABX9TyNTtBiig20boFKlnhJGwLu/",
      "include_colab_link": true
    },
    "kernelspec": {
      "name": "python3",
      "display_name": "Python 3"
    },
    "language_info": {
      "name": "python"
    }
  },
  "cells": [
    {
      "cell_type": "markdown",
      "metadata": {
        "id": "view-in-github",
        "colab_type": "text"
      },
      "source": [
        "<a href=\"https://colab.research.google.com/github/ALLASAIKAUSHI/python/blob/main/Dictionaries.ipynb\" target=\"_parent\"><img src=\"https://colab.research.google.com/assets/colab-badge.svg\" alt=\"Open In Colab\"/></a>"
      ]
    },
    {
      "cell_type": "code",
      "execution_count": 3,
      "metadata": {
        "colab": {
          "base_uri": "https://localhost:8080/"
        },
        "id": "nUlYtkNYdPQB",
        "outputId": "78696a4b-54a7-4a7f-831f-8cfc99791292"
      },
      "outputs": [
        {
          "output_type": "stream",
          "name": "stdout",
          "text": [
            "{'brand': 'Ford', 'model': 'Mustang', 'year': 1964}\n"
          ]
        }
      ],
      "source": [
        "thisdict = {\n",
        "  \"brand\": \"Ford\",\n",
        "  \"model\": \"Mustang\",\n",
        "  \"year\": 1964\n",
        "}\n",
        "print(thisdict)"
      ]
    },
    {
      "cell_type": "code",
      "source": [
        "thisdict={\n",
        "    \"name\":\"kaushik\",\n",
        "    \"year\": 2003,\n",
        "    \"age\":\"18\",\n",
        "    \"blood group\":\"A+\"\n",
        "}\n",
        "print(thisdict)"
      ],
      "metadata": {
        "colab": {
          "base_uri": "https://localhost:8080/"
        },
        "id": "KPX82Gwud1YW",
        "outputId": "73b02558-7504-48f1-863f-541244c7a4b5"
      },
      "execution_count": 5,
      "outputs": [
        {
          "output_type": "stream",
          "name": "stdout",
          "text": [
            "{'name': 'kaushik', 'year': 2003, 'age': '18', 'blood group': 'A+'}\n"
          ]
        }
      ]
    },
    {
      "cell_type": "code",
      "source": [
        "thisdict={\n",
        "    \"name\":\"saipavan\",\n",
        "    \"girlfriend\":\"not found\",\n",
        "    \"breakup\":2022\n",
        "\n",
        "}\n",
        "print(thisdict[\"girlfriend\"])"
      ],
      "metadata": {
        "colab": {
          "base_uri": "https://localhost:8080/"
        },
        "id": "VrLGVyqhedvM",
        "outputId": "9a3a8f79-7370-4e41-81d0-fb8ec3101b78"
      },
      "execution_count": 7,
      "outputs": [
        {
          "output_type": "stream",
          "name": "stdout",
          "text": [
            "not found\n"
          ]
        }
      ]
    },
    {
      "cell_type": "code",
      "source": [
        "thisdict={\n",
        "    \"name\":\"saipavan\",\n",
        "    \"girlfriend\":\"not found\",\n",
        "    \"breakup\":2018,\n",
        "    \"breakup\":2022\n",
        "\n",
        "}\n",
        "print(len(thisdict))"
      ],
      "metadata": {
        "colab": {
          "base_uri": "https://localhost:8080/"
        },
        "id": "A0KPkXcjfhcs",
        "outputId": "cfbcf718-07d1-493d-ce44-17be54c10d2d"
      },
      "execution_count": 11,
      "outputs": [
        {
          "output_type": "stream",
          "name": "stdout",
          "text": [
            "3\n"
          ]
        }
      ]
    },
    {
      "cell_type": "code",
      "source": [
        "thisdict={\n",
        "     \"name\":\"john\",\n",
        "     \"age\": \"34\",\n",
        "     \"cgpa\":\"8.9\",\n",
        "     \"phone number\":\"+91________70\"\n",
        "     \n",
        "}\n",
        "print(thisdict)"
      ],
      "metadata": {
        "colab": {
          "base_uri": "https://localhost:8080/"
        },
        "id": "mcq3Q7mLgNFe",
        "outputId": "9591ae75-4572-4678-c1fd-ad6532dbefca"
      },
      "execution_count": 12,
      "outputs": [
        {
          "output_type": "stream",
          "name": "stdout",
          "text": [
            "{'name': 'john', 'age': '34', 'cgpa': '8.9', 'phone number': '+91________70'}\n"
          ]
        }
      ]
    },
    {
      "cell_type": "code",
      "source": [
        "placements={\"name\":input(),\n",
        "            \"age\":input(),\n",
        "            \"branch\":input(),\n",
        "            \"cgpa\":input(),\n",
        "            \"phone number\":input(),\n",
        "    \n",
        "}"
      ],
      "metadata": {
        "colab": {
          "base_uri": "https://localhost:8080/"
        },
        "id": "HAeaLuTEjTB8",
        "outputId": "ca2b4141-a906-4b16-842b-3e834a30059a"
      },
      "execution_count": 14,
      "outputs": [
        {
          "name": "stdout",
          "output_type": "stream",
          "text": [
            "gaandu\n",
            "12\n",
            "visakhapatnam\n",
            "8.9\n",
            "8467584956\n"
          ]
        }
      ]
    },
    {
      "cell_type": "code",
      "source": [
        ""
      ],
      "metadata": {
        "id": "pJW8zu1Ykkr6"
      },
      "execution_count": null,
      "outputs": []
    }
  ]
}