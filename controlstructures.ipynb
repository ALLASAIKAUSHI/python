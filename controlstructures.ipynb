{
  "nbformat": 4,
  "nbformat_minor": 0,
  "metadata": {
    "colab": {
      "name": "controlstructures.ipynb",
      "provenance": [],
      "authorship_tag": "ABX9TyMZ90IdV1+9PPdqtwScI80U",
      "include_colab_link": true
    },
    "kernelspec": {
      "name": "python3",
      "display_name": "Python 3"
    },
    "language_info": {
      "name": "python"
    }
  },
  "cells": [
    {
      "cell_type": "markdown",
      "metadata": {
        "id": "view-in-github",
        "colab_type": "text"
      },
      "source": [
        "<a href=\"https://colab.research.google.com/github/ALLASAIKAUSHI/python/blob/module2/controlstructures.ipynb\" target=\"_parent\"><img src=\"https://colab.research.google.com/assets/colab-badge.svg\" alt=\"Open In Colab\"/></a>"
      ]
    },
    {
      "cell_type": "code",
      "execution_count": 5,
      "metadata": {
        "colab": {
          "base_uri": "https://localhost:8080/"
        },
        "id": "w7geVXwMP0Xb",
        "outputId": "c1ef16f3-8da9-4925-df05-d183ee344e51"
      },
      "outputs": [
        {
          "output_type": "stream",
          "name": "stdout",
          "text": [
            "enter age of the person19\n",
            "eligible for voting\n"
          ]
        }
      ],
      "source": [
        "#Find out the person is eligible for voting or not\n",
        "a=input(\"enter age of the person\")\n",
        "b=int(a)\n",
        "if(b>=18):\n",
        "  print(\"eligible for voting\")\n",
        "else:\n",
        "  print(\"not eligible for voting\")"
      ]
    },
    {
      "cell_type": "code",
      "source": [
        "#largest of three numbers\n",
        "a=int(input(\"1st number\"))\n",
        "b=int(input(\"2nd number\"))\n",
        "c=int(input(\"3rd number\"))\n",
        "if a>b:\n",
        "  if a>c:\n",
        "    print(a)\n",
        "  elif b>c:\n",
        "    if b>a:\n",
        "      print(b)\n",
        "  else :\n",
        "    print(c)"
      ],
      "metadata": {
        "colab": {
          "base_uri": "https://localhost:8080/"
        },
        "id": "dtmUQSnaRzKU",
        "outputId": "d9cdc784-c6e0-406a-de37-01b6ffcdd45f"
      },
      "execution_count": 7,
      "outputs": [
        {
          "name": "stdout",
          "output_type": "stream",
          "text": [
            "1st number2\n",
            "2nd number3\n",
            "3rd number4\n"
          ]
        }
      ]
    },
    {
      "cell_type": "code",
      "source": [
        "# Give five subject marks amd find out the greatest among them\n",
        "a=int(input(\"1st number\"))\n",
        "b=int(input(\"2nd number\"))\n",
        "c=int(input(\"3rd number\"))\n",
        "d=int(input(\"4th number\"))\n",
        "e=int(input(\"5th number\"))\n",
        "if a>b and a>c and a>d and a>e :\n",
        "  print(a)\n",
        "if b>a and b>c and b>d and b>e :\n",
        "  print(b)\n",
        "if c>b and c>a and c>d and c>e :\n",
        "  print(c)\n",
        "if d>b and d>c and d>a and d>e :\n",
        "  print(d)\n",
        "else :\n",
        "\n",
        "  print(e)\n",
        "\n"
      ],
      "metadata": {
        "colab": {
          "base_uri": "https://localhost:8080/",
          "height": 130
        },
        "id": "PVVvRm1LT2bz",
        "outputId": "5e04db3e-c41a-4ed8-d84f-a82ade516c34"
      },
      "execution_count": 10,
      "outputs": [
        {
          "output_type": "error",
          "ename": "IndentationError",
          "evalue": "ignored",
          "traceback": [
            "\u001b[0;36m  File \u001b[0;32m\"<ipython-input-10-18d523db3392>\"\u001b[0;36m, line \u001b[0;32m14\u001b[0m\n\u001b[0;31m    else :\u001b[0m\n\u001b[0m       ^\u001b[0m\n\u001b[0;31mIndentationError\u001b[0m\u001b[0;31m:\u001b[0m expected an indented block\n"
          ]
        }
      ]
    },
    {
      "cell_type": "code",
      "source": [
        "# check whether the given triangle is equilateral,isosceles,scalene triangle\n",
        "a=int(input(\"1st side\"))\n",
        "b=int(input(\"2nd side\"))\n",
        "c=int(input(\"3rd side\"))\n",
        "if(a==b==c):\n",
        "  print(\"equilateral triangle\")\n",
        "elif(a!=b and b!=c and c!=a):\n",
        "  print(\"scalene triangle\")\n",
        "else :\n",
        "  print(\"iscosceles triangle\")"
      ],
      "metadata": {
        "colab": {
          "base_uri": "https://localhost:8080/"
        },
        "id": "cLtiuCrYWxw7",
        "outputId": "c9723bf5-bd79-4b3f-f685-c24120781698"
      },
      "execution_count": 12,
      "outputs": [
        {
          "output_type": "stream",
          "name": "stdout",
          "text": [
            "1st side3\n",
            "2nd side3\n",
            "3rd side3\n",
            "equilateral triangle\n"
          ]
        }
      ]
    },
    {
      "cell_type": "code",
      "source": [
        ""
      ],
      "metadata": {
        "id": "8wcmLjuJZKeT"
      },
      "execution_count": null,
      "outputs": []
    }
  ]
}