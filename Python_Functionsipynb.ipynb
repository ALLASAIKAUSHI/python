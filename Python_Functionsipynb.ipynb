{
  "nbformat": 4,
  "nbformat_minor": 0,
  "metadata": {
    "colab": {
      "name": "Python Functionsipynb",
      "provenance": [],
      "authorship_tag": "ABX9TyOgtWgpYrP4NKy9ayIgQzh/",
      "include_colab_link": true
    },
    "kernelspec": {
      "name": "python3",
      "display_name": "Python 3"
    },
    "language_info": {
      "name": "python"
    }
  },
  "cells": [
    {
      "cell_type": "markdown",
      "metadata": {
        "id": "view-in-github",
        "colab_type": "text"
      },
      "source": [
        "<a href=\"https://colab.research.google.com/github/ALLASAIKAUSHI/python/blob/module2/Python_Functionsipynb.ipynb\" target=\"_parent\"><img src=\"https://colab.research.google.com/assets/colab-badge.svg\" alt=\"Open In Colab\"/></a>"
      ]
    },
    {
      "cell_type": "code",
      "execution_count": 9,
      "metadata": {
        "colab": {
          "base_uri": "https://localhost:8080/"
        },
        "id": "T6zzYvwUUyYA",
        "outputId": "97124d7e-c7a3-4932-d99f-66109dac668c"
      },
      "outputs": [
        {
          "output_type": "stream",
          "name": "stdout",
          "text": [
            "hi\n",
            "hlo\n",
            "bye\n",
            "god\n"
          ]
        }
      ],
      "source": [
        "def kaushik():\n",
        " print(\"hi\")\n",
        " print(\"hlo\")\n",
        " print(\"bye\")\n",
        " print(\"god\")\n",
        "kaushik()\n"
      ]
    },
    {
      "cell_type": "code",
      "source": [
        "def kaushik(fname):\n",
        "    print(fname +\"lilliput\")\n",
        "def hyderabad(fname):\n",
        "  print(fname +\"loverboy\")\n",
        "def karimnagar(fname):\n",
        "    print(fname +\"goodboy\")\n",
        "\n",
        "kaushik(\"saicharan\")\n",
        "hyderabad(\"saipavan\")\n",
        "karimnagar(\"saketh\")"
      ],
      "metadata": {
        "colab": {
          "base_uri": "https://localhost:8080/"
        },
        "id": "_wiUu1fNY8_L",
        "outputId": "d92e5917-1fc2-4692-dc97-adc4097e99b7"
      },
      "execution_count": 16,
      "outputs": [
        {
          "output_type": "stream",
          "name": "stdout",
          "text": [
            "saicharanlilliput\n",
            "saipavanloverboy\n",
            "sakethgoodboy\n"
          ]
        }
      ]
    },
    {
      "cell_type": "code",
      "source": [
        "def vote(age,name,gender):\n",
        " print(\"age=\",age, \"name=\",name, \"gender=\",gender)\n",
        " x=int(input())\n",
        " if x>=18:\n",
        "     print(\"eligible for voting\")\n",
        " else:\n",
        "     print(\"not eligible for voting\")\n",
        "vote(18,\"kaushik\",\"male\")\n",
        "\n"
      ],
      "metadata": {
        "colab": {
          "base_uri": "https://localhost:8080/"
        },
        "id": "C7MRomz6bVSB",
        "outputId": "e2c6bf33-cf4c-4568-e468-ee31f1871859"
      },
      "execution_count": 30,
      "outputs": [
        {
          "output_type": "stream",
          "name": "stdout",
          "text": [
            "age= 18 name= kaushik gender= male\n",
            "23\n",
            "eligible for voting\n"
          ]
        }
      ]
    },
    {
      "cell_type": "code",
      "source": [
        "def company(*cars):\n",
        "  print(\"The bmw car colour is \" + cars[0])\n",
        "company(\"red\",\"white\",\"blue\")\n",
        "\n",
        "\n"
      ],
      "metadata": {
        "colab": {
          "base_uri": "https://localhost:8080/"
        },
        "id": "qs5gYBVqe1Pp",
        "outputId": "a0217417-eb33-4687-91e8-7675fbe8289a"
      },
      "execution_count": 34,
      "outputs": [
        {
          "output_type": "stream",
          "name": "stdout",
          "text": [
            "The bmw car colour is red\n"
          ]
        }
      ]
    },
    {
      "cell_type": "code",
      "source": [
        "## PYTHON BUILT IN FUNCTIONS\n",
        "a=-25.5\n",
        "b=abs(a)\n",
        "print(b)"
      ],
      "metadata": {
        "colab": {
          "base_uri": "https://localhost:8080/"
        },
        "id": "LW2_KeNJlKWM",
        "outputId": "cdc84d1e-b540-4499-80a9-5d4832b1fb76"
      },
      "execution_count": 35,
      "outputs": [
        {
          "output_type": "stream",
          "name": "stdout",
          "text": [
            "25.5\n"
          ]
        }
      ]
    }
  ]
}