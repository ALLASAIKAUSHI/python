{
  "nbformat": 4,
  "nbformat_minor": 0,
  "metadata": {
    "colab": {
      "name": "sampleQuiz1.ipynb",
      "provenance": [],
      "authorship_tag": "ABX9TyOT8Poyi/tCofcnvDQqz4V/",
      "include_colab_link": true
    },
    "kernelspec": {
      "name": "python3",
      "display_name": "Python 3"
    },
    "language_info": {
      "name": "python"
    }
  },
  "cells": [
    {
      "cell_type": "markdown",
      "metadata": {
        "id": "view-in-github",
        "colab_type": "text"
      },
      "source": [
        "<a href=\"https://colab.research.google.com/github/ALLASAIKAUSHI/python/blob/main/sampleQuiz1.ipynb\" target=\"_parent\"><img src=\"https://colab.research.google.com/assets/colab-badge.svg\" alt=\"Open In Colab\"/></a>"
      ]
    },
    {
      "cell_type": "code",
      "execution_count": 3,
      "metadata": {
        "colab": {
          "base_uri": "https://localhost:8080/"
        },
        "id": "mijjEIsOiKvY",
        "outputId": "e24f1e5c-2cd4-4037-f8a0-85fb55e4c4a8"
      },
      "outputs": [
        {
          "output_type": "stream",
          "name": "stdout",
          "text": [
            "['Red', 'Orange', 'Yellow', 'Black', 'Green']\n"
          ]
        }
      ],
      "source": [
        "#Add Black color to the given list in the 4th place.\n",
        "Rainbow = ['Red', 'Orange', 'Yellow', 'Green'] \n",
        "Rainbow.insert(3,'Black')\n",
        "print(Rainbow)"
      ]
    },
    {
      "cell_type": "code",
      "source": [
        "#Find out the square root of the number\n",
        "a=4\n",
        "b=a**1/2\n",
        "print(b)"
      ],
      "metadata": {
        "colab": {
          "base_uri": "https://localhost:8080/"
        },
        "id": "SUBTHCH7i_0X",
        "outputId": "d0edb0be-267d-47fb-ac73-35898c5e61d3"
      },
      "execution_count": 4,
      "outputs": [
        {
          "output_type": "stream",
          "name": "stdout",
          "text": [
            "2.0\n"
          ]
        }
      ]
    },
    {
      "cell_type": "code",
      "source": [
        ""
      ],
      "metadata": {
        "id": "MzRwSIv7jsHM"
      },
      "execution_count": null,
      "outputs": []
    }
  ]
}