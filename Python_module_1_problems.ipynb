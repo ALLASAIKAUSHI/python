{
  "nbformat": 4,
  "nbformat_minor": 0,
  "metadata": {
    "colab": {
      "name": "Python module 1 problems.ipynb",
      "provenance": [],
      "authorship_tag": "ABX9TyOTOoPSGqI7x7x2H5nlEUC5",
      "include_colab_link": true
    },
    "kernelspec": {
      "name": "python3",
      "display_name": "Python 3"
    },
    "language_info": {
      "name": "python"
    }
  },
  "cells": [
    {
      "cell_type": "markdown",
      "metadata": {
        "id": "view-in-github",
        "colab_type": "text"
      },
      "source": [
        "<a href=\"https://colab.research.google.com/github/ALLASAIKAUSHI/python/blob/MODULE-5/Python_module_1_problems.ipynb\" target=\"_parent\"><img src=\"https://colab.research.google.com/assets/colab-badge.svg\" alt=\"Open In Colab\"/></a>"
      ]
    },
    {
      "cell_type": "code",
      "source": [
        "##Accept input from user and store it in variable and print the value.\n",
        "a=int(input(\"enter any number\"))\n",
        "print(a)"
      ],
      "metadata": {
        "colab": {
          "base_uri": "https://localhost:8080/"
        },
        "id": "77MB-aawTGs7",
        "outputId": "e3c8a3b6-be34-4bdf-d4a2-d9306efbf972"
      },
      "execution_count": null,
      "outputs": [
        {
          "output_type": "stream",
          "name": "stdout",
          "text": [
            "enter any number4\n",
            "4\n"
          ]
        }
      ]
    },
    {
      "cell_type": "code",
      "source": [
        "##Use of print statements and use of (.format )for printing different data types.\n",
        "age = 18\n",
        "txt = \"My name is Kaushik, I am {}\"\n",
        "print(txt.format(age))\n",
        "    "
      ],
      "metadata": {
        "id": "OM5JWbs3oQ6G"
      },
      "execution_count": null,
      "outputs": []
    },
    {
      "cell_type": "code",
      "source": [
        "##Take 2 numbers as user input and add, multiply, divide, subtract, remainder and print\n",
        "the output (Same operations on floating point input as well)\n",
        "a=float(input(\"enter any number\"))\n",
        "b=float(input(\"enter any number\"))\n",
        "c=a+b\n",
        "d=a-b\n",
        "e=a*b\n",
        "f=a/b\n",
        "g=a%b\n",
        "print(\"sum=\",c)\n",
        "print(\"subtract=\",d)\n",
        "print(\"product=\",e)\n",
        "print(\"divison=\",f)\n",
        "print(\"remainder=\",g)"
      ],
      "metadata": {
        "colab": {
          "base_uri": "https://localhost:8080/"
        },
        "id": "u0a3P_iyWelS",
        "outputId": "21d500c2-dc6a-43f5-dddb-8a4737b799d3"
      },
      "execution_count": null,
      "outputs": [
        {
          "output_type": "stream",
          "name": "stdout",
          "text": [
            "enter any number2\n",
            "enter any number3\n",
            "sum= 5.0\n",
            "subtract= -1.0\n",
            "product= 6.0\n",
            "divison= 0.6666666666666666\n",
            "remainder= 2.0\n"
          ]
        }
      ]
    },
    {
      "cell_type": "code",
      "source": [
        "#Conversion of one unit to another (such as hours to minutes, miles to km and etc)\n",
        "a=float(input(\"enter hours\"))\n",
        "print(\"minutes are= \",a*60)\n",
        "b=float(input(\"enter miles\"))\n",
        "print(\"km are= \",b*1.6)\n",
        "\n",
        "\n"
      ],
      "metadata": {
        "id": "B7PVyYKTpr6A",
        "outputId": "8954f5f6-4977-42f2-9239-03be3e008a68",
        "colab": {
          "base_uri": "https://localhost:8080/"
        }
      },
      "execution_count": 1,
      "outputs": [
        {
          "output_type": "stream",
          "name": "stdout",
          "text": [
            "enter hours3\n",
            "minutes are=  180.0\n",
            "enter miles4\n",
            "km are=  6.4\n"
          ]
        }
      ]
    },
    {
      "cell_type": "code",
      "source": [
        "##x Usage of mathematical functions in python like math.ceil, floor, fabs, fmod, trunc,\n",
        "##pow, sqrt etc.\n",
        "import math\n",
        "\n",
        "a=float(input(\"enter a number\"))\n",
        "print(math.ceil(a))\n",
        "print(math.floor(a))\n",
        "print(math.fabs(a))\n",
        "print(math.trunc(a))\n",
        "print(math.sqrt(a))\n",
        "b=float(input(\"enter a number\"))\n",
        "c=float(input(\"enter a number\"))\n",
        "print(math.fmod(b,c))\n",
        "print(math.pow(b,c))"
      ],
      "metadata": {
        "colab": {
          "base_uri": "https://localhost:8080/"
        },
        "id": "KGEbYVTcY95n",
        "outputId": "2a18bf97-540d-4659-c93b-ecadc8023edb"
      },
      "execution_count": null,
      "outputs": [
        {
          "output_type": "stream",
          "name": "stdout",
          "text": [
            "enter a number76.5\n",
            "77\n",
            "76\n",
            "76.5\n",
            "76\n",
            "8.74642784226795\n",
            "enter a number56.9\n",
            "enter a number22.0\n",
            "12.899999999999999\n",
            "4.097036760791603e+38\n"
          ]
        }
      ]
    },
    {
      "cell_type": "code",
      "source": [
        "##Building a mathematical calculator that can perform operations according to user input.\n",
        "##Use decision making statement.\n",
        "a=float(input(\"enter number \"))\n",
        "b=float(input(\"enter a number \"))\n",
        "o=input(\"enter opeation\")\n",
        "if o==\"sum\":\n",
        "  print(a+b)\n",
        "elif o==\"subtract\":\n",
        "  print(a-b)\n",
        "elif o==\"product\":\n",
        "  print(a*b)\n",
        "elif o==\"remainder\":\n",
        "  print(a%b)\n",
        "else:\n",
        "  print(a/b)"
      ],
      "metadata": {
        "id": "6UCWM2jMeey9",
        "outputId": "f4849c6c-60e1-4498-eae0-184816cdc47f",
        "colab": {
          "base_uri": "https://localhost:8080/"
        }
      },
      "execution_count": 2,
      "outputs": [
        {
          "output_type": "stream",
          "name": "stdout",
          "text": [
            "enter number 2\n",
            "enter a number 3\n",
            "enter opeation2\n",
            "0.6666666666666666\n"
          ]
        }
      ]
    },
    {
      "cell_type": "code",
      "source": [
        "##Accepting 5 different subject marks from user and displaying the grade of the student.\n",
        "s1=float(input(\"enter marks\"))\n",
        "s2=float(input(\"enter marks\"))\n",
        "s3=float(input(\"enter marks\"))\n",
        "s4=float(input(\"enter marks\"))\n",
        "s5=float(input(\"enter marks\"))\n",
        "avg=(s1+s2+s3+s4+s5)/5\n",
        "if avg>=90:\n",
        "  print(\"a grade\")\n",
        "elif avg>=80:\n",
        "  print(\"b grade\")\n",
        "elif avg>=70:\n",
        "  print(\"c grade\")\n",
        "elif avg>=60:\n",
        "  print(\"d grade\")\n",
        "else:\n",
        "  print(\"fail\")\n",
        "\n"
      ],
      "metadata": {
        "id": "X0ynbItHfKY-",
        "outputId": "53b3a014-a3f8-4ded-9502-672ffe964f48",
        "colab": {
          "base_uri": "https://localhost:8080/"
        }
      },
      "execution_count": 3,
      "outputs": [
        {
          "output_type": "stream",
          "name": "stdout",
          "text": [
            "enter marks40\n",
            "enter marks50\n",
            "enter marks60\n",
            "enter marks70\n",
            "enter marks80\n",
            "d grade\n"
          ]
        }
      ]
    },
    {
      "cell_type": "code",
      "source": [
        "##Printing all even numbers, odd numbers, count of even numbers, count of odd numbers\n",
        "##within a given range.\n",
        "n=int(input(\"enter range \"))\n",
        "c=0\n",
        "for i in range(1,n+1):\n",
        " if i%2==0:\n",
        "   c+=1\n",
        "   print(i)\n",
        "\n",
        "\n",
        "print(\"even count is \",c)\n",
        "\n",
        "d=0\n",
        "for i in range(1,n+1):\n",
        "  if i%2!=0: \n",
        "    d+=1\n",
        "    print(i)\n",
        "\n",
        "print(\"odd count is \",d)"
      ],
      "metadata": {
        "id": "Ta-xJM8cqf7T",
        "outputId": "5e6685a0-632c-4255-f1dc-ae6804844faf",
        "colab": {
          "base_uri": "https://localhost:8080/"
        }
      },
      "execution_count": 6,
      "outputs": [
        {
          "output_type": "stream",
          "name": "stdout",
          "text": [
            "enter range 20\n",
            "2\n",
            "4\n",
            "6\n",
            "8\n",
            "10\n",
            "12\n",
            "14\n",
            "16\n",
            "18\n",
            "20\n",
            "even count is  10\n",
            "1\n",
            "3\n",
            "5\n",
            "7\n",
            "9\n",
            "11\n",
            "13\n",
            "15\n",
            "17\n",
            "19\n",
            "odd count is  10\n"
          ]
        }
      ]
    },
    {
      "cell_type": "code",
      "source": [
        "## A. Compute the factorial of a given number\n",
        "n=int(input(\"enter a number \"))\n",
        "fac=1\n",
        "for i in range(1,n+1):\n",
        "  fac=fac*i\n",
        "\n",
        "print(fac)\n"
      ],
      "metadata": {
        "id": "O3EBqkefq8sV",
        "outputId": "1b77ca2e-18ef-4e1f-e05e-a87ba305a58c",
        "colab": {
          "base_uri": "https://localhost:8080/"
        }
      },
      "execution_count": 10,
      "outputs": [
        {
          "output_type": "stream",
          "name": "stdout",
          "text": [
            "enter a number 8\n",
            "40320\n"
          ]
        }
      ]
    },
    {
      "cell_type": "code",
      "source": [
        " ##  B. Compute GCD of two given numbers\n",
        "a=int(input(\"enter a number\"))\n",
        "b=int(input(\"enter a number\"))\n",
        "k=a if a<b else b\n",
        "while True:\n",
        "    if a%k==0 and b%k==0:\n",
        "     break\n",
        "    k -=1\n",
        "print(k)"
      ],
      "metadata": {
        "id": "fEbmxs4mrzvG",
        "outputId": "18d53ddb-ee53-4cae-ca88-43f6b439c488",
        "colab": {
          "base_uri": "https://localhost:8080/"
        }
      },
      "execution_count": 11,
      "outputs": [
        {
          "output_type": "stream",
          "name": "stdout",
          "text": [
            "enter a number5\n",
            "enter a number7\n",
            "1\n"
          ]
        }
      ]
    },
    {
      "cell_type": "code",
      "source": [
        "##  C. Generate Fibonacci series up to N numbers.\n",
        "n=int(input(\"enter a number\"))\n",
        "a=0\n",
        "b=1\n",
        "print(a,b, end =\" \")\n",
        "for i in range (n-2):\n",
        "    c=a+b\n",
        "    print(c, end=\" \")\n",
        "    a=b\n",
        "    b=c"
      ],
      "metadata": {
        "id": "rNCHa6tZsKL-",
        "outputId": "75de7624-c199-4158-b074-9ef01980b446",
        "colab": {
          "base_uri": "https://localhost:8080/"
        }
      },
      "execution_count": 12,
      "outputs": [
        {
          "output_type": "stream",
          "name": "stdout",
          "text": [
            "enter a number15\n",
            "0 1 1 2 3 5 8 13 21 34 55 89 144 233 377 "
          ]
        }
      ]
    },
    {
      "cell_type": "code",
      "source": [
        "##Check whether the given input is a) palindrome \n",
        "a=int(input(\"enter a number: \"))\n",
        "b=a\n",
        "rev=0\n",
        "while(a!=0):\n",
        "  r=a%10\n",
        "  rev=rev*10+r\n",
        "  a=a/10\n",
        "print(rev)\n",
        "if(rev==b):\n",
        "  print(\"it is a palindrome\")\n",
        "else:\n",
        "  print(\"it is not a palindrome\")\n"
      ],
      "metadata": {
        "id": "llNIvCEGtVVM",
        "outputId": "191ba639-4326-4cb2-dcce-777fb580f7ee",
        "colab": {
          "base_uri": "https://localhost:8080/"
        }
      },
      "execution_count": 15,
      "outputs": [
        {
          "output_type": "stream",
          "name": "stdout",
          "text": [
            "enter a number: 232\n",
            "inf\n",
            "it is not a palindrome\n"
          ]
        }
      ]
    },
    {
      "cell_type": "code",
      "source": [
        "## b) strong\n",
        "n=int(input(\"enter a number\"))\n",
        "t=n\n",
        "sum=0\n",
        "while(n !=0):\n",
        "   r=n%10\n",
        "   f=1\n",
        "while(r !=1):\n",
        "    f=f*r\n",
        "    r=r-1\n",
        "    sum=sum+f\n",
        "    n=n//10\n",
        "if(sum==t):\n",
        "   print(\"it is a strong number\")\n",
        "else:\n",
        "  print(\"it is not a strong number\")\n"
      ],
      "metadata": {
        "id": "EshG3PEokVAY"
      },
      "execution_count": null,
      "outputs": []
    },
    {
      "cell_type": "code",
      "source": [
        "##c) perfect number\n",
        "n=int(input(\"enter a number\"))\n",
        "s=0\n",
        "for i in range (1,(n//2+1)):\n",
        "  if n%i==0:\n",
        "    s+=i\n",
        "  if(s==n):\n",
        "    print(\"perfect number\")\n",
        "  else:\n",
        "    print(\"not a perfect number\")"
      ],
      "metadata": {
        "id": "51P3Mwf5wJxw"
      },
      "execution_count": null,
      "outputs": []
    },
    {
      "cell_type": "code",
      "source": [
        "## Compute compound interest using loop for a certain principal and interest amount\n",
        "p=int(input(\"enter amount :\"))\n",
        "r=int(input(\"enter rate :\"))\n",
        "t=int(input(\"enter time :\"))\n",
        "c=p*pow(1+r/100,t)-p\n",
        "print(\"compound intrest :\",C)"
      ],
      "metadata": {
        "id": "zyicKQmX1a1N"
      },
      "execution_count": null,
      "outputs": []
    }
  ]
}