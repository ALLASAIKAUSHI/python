{
  "nbformat": 4,
  "nbformat_minor": 0,
  "metadata": {
    "colab": {
      "name": "Python module 1 problems.ipynb",
      "provenance": [],
      "authorship_tag": "ABX9TyMqkNz15JzfeCdr5fQ0pjgO",
      "include_colab_link": true
    },
    "kernelspec": {
      "name": "python3",
      "display_name": "Python 3"
    },
    "language_info": {
      "name": "python"
    }
  },
  "cells": [
    {
      "cell_type": "markdown",
      "metadata": {
        "id": "view-in-github",
        "colab_type": "text"
      },
      "source": [
        "<a href=\"https://colab.research.google.com/github/ALLASAIKAUSHI/python/blob/module1/Python_module_1_problems.ipynb\" target=\"_parent\"><img src=\"https://colab.research.google.com/assets/colab-badge.svg\" alt=\"Open In Colab\"/></a>"
      ]
    },
    {
      "cell_type": "code",
      "execution_count": null,
      "metadata": {
        "colab": {
          "base_uri": "https://localhost:8080/"
        },
        "id": "OoFomVlmSxJi",
        "outputId": "f0e73689-11e9-4778-fdbe-35f90ac364a4"
      },
      "outputs": [
        {
          "output_type": "stream",
          "name": "stdout",
          "text": [
            "apple.com\n"
          ]
        }
      ],
      "source": [
        "website = \"apple.com\"\n",
        "print(website)"
      ]
    },
    {
      "cell_type": "code",
      "source": [
        "##Accept input from user and store it in variable and print the value.\n",
        "a=int(input(\"enter any number\"))\n",
        "print(a)"
      ],
      "metadata": {
        "colab": {
          "base_uri": "https://localhost:8080/"
        },
        "id": "77MB-aawTGs7",
        "outputId": "e3c8a3b6-be34-4bdf-d4a2-d9306efbf972"
      },
      "execution_count": null,
      "outputs": [
        {
          "output_type": "stream",
          "name": "stdout",
          "text": [
            "enter any number4\n",
            "4\n"
          ]
        }
      ]
    },
    {
      "cell_type": "code",
      "source": [
        "a, b, c = 5, 3.2, \"Hello\"\n",
        "\n",
        "print (a)\n",
        "print (b)\n",
        "print (c)"
      ],
      "metadata": {
        "id": "N5Y8wGGbVQhq"
      },
      "execution_count": null,
      "outputs": []
    },
    {
      "cell_type": "code",
      "source": [
        ""
      ],
      "metadata": {
        "id": "dtZbj-eHY0y6"
      },
      "execution_count": null,
      "outputs": []
    },
    {
      "cell_type": "code",
      "source": [
        "##Take 2 numbers as user input and add, multiply, divide, subtract, remainder and print\n",
        "the output (Same operations on floating point input as well)\n",
        "a=float(input(\"enter any number\"))\n",
        "b=float(input(\"enter any number\"))\n",
        "c=a+b\n",
        "d=a-b\n",
        "e=a*b\n",
        "f=a/b\n",
        "g=a%b\n",
        "print(\"sum=\",c)\n",
        "print(\"subtract=\",d)\n",
        "print(\"product=\",e)\n",
        "print(\"divison=\",f)\n",
        "print(\"remainder=\",g)"
      ],
      "metadata": {
        "colab": {
          "base_uri": "https://localhost:8080/"
        },
        "id": "u0a3P_iyWelS",
        "outputId": "21d500c2-dc6a-43f5-dddb-8a4737b799d3"
      },
      "execution_count": 5,
      "outputs": [
        {
          "output_type": "stream",
          "name": "stdout",
          "text": [
            "enter any number2\n",
            "enter any number3\n",
            "sum= 5.0\n",
            "subtract= -1.0\n",
            "product= 6.0\n",
            "divison= 0.6666666666666666\n",
            "remainder= 2.0\n"
          ]
        }
      ]
    },
    {
      "cell_type": "code",
      "source": [
        "##x Usage of mathematical functions in python like math.ceil, floor, fabs, fmod, trunc,\n",
        "##pow, sqrt etc.\n",
        "import math\n",
        "\n",
        "a=float(input(\"enter a number\"))\n",
        "print(math.ceil(a))\n",
        "print(math.floor(a))\n",
        "print(math.fabs(a))\n",
        "print(math.trunc(a))\n",
        "print(math.sqrt(a))\n",
        "b=float(input(\"enter a number\"))\n",
        "c=float(input(\"enter a number\"))\n",
        "print(math.fmod(b,c))\n",
        "print(math.pow(b,c))"
      ],
      "metadata": {
        "colab": {
          "base_uri": "https://localhost:8080/"
        },
        "id": "KGEbYVTcY95n",
        "outputId": "2a18bf97-540d-4659-c93b-ecadc8023edb"
      },
      "execution_count": 12,
      "outputs": [
        {
          "output_type": "stream",
          "name": "stdout",
          "text": [
            "enter a number76.5\n",
            "77\n",
            "76\n",
            "76.5\n",
            "76\n",
            "8.74642784226795\n",
            "enter a number56.9\n",
            "enter a number22.0\n",
            "12.899999999999999\n",
            "4.097036760791603e+38\n"
          ]
        }
      ]
    },
    {
      "cell_type": "code",
      "source": [
        "##Building a mathematical calculator that can perform operations according to user input.\n",
        "##Use decision making statement.\n",
        "a="
      ],
      "metadata": {
        "id": "6UCWM2jMeey9"
      },
      "execution_count": null,
      "outputs": []
    },
    {
      "cell_type": "code",
      "source": [
        "##Accepting 5 different subject marks from user and displaying the grade of the student.\n",
        "a=int(input())\n",
        "b=int(input())\n",
        "c=int(input())\n",
        "d=int(input())\n",
        "e=int(input())\n",
        "\n"
      ],
      "metadata": {
        "id": "X0ynbItHfKY-"
      },
      "execution_count": null,
      "outputs": []
    },
    {
      "cell_type": "code",
      "source": [
        "##Check whether the given input is a) palindrome\n",
        "num = input('Enter any number : ')\n",
        "try:\n",
        "   val = int(num)\n",
        "   if num == str(num)[::-1]:\n",
        "      print('The given number is PALINDROME')\n",
        "   else:\n",
        "      print('The given number is NOT a palindrome')\n",
        "except ValueError:\n",
        "   print(\"That's not a valid number, Try Again !\")"
      ],
      "metadata": {
        "colab": {
          "base_uri": "https://localhost:8080/"
        },
        "id": "CLHYVmCskBdB",
        "outputId": "60847798-aa2c-4659-8719-ab393dcef83c"
      },
      "execution_count": 13,
      "outputs": [
        {
          "output_type": "stream",
          "name": "stdout",
          "text": [
            "Enter any number : 654\n",
            "The given number is NOT a palindrome\n"
          ]
        }
      ]
    },
    {
      "cell_type": "code",
      "source": [
        ""
      ],
      "metadata": {
        "id": "EshG3PEokVAY"
      },
      "execution_count": null,
      "outputs": []
    }
  ]
}