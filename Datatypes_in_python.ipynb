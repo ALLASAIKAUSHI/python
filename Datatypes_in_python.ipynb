{
  "cells": [
    {
      "cell_type": "markdown",
      "metadata": {
        "id": "view-in-github",
        "colab_type": "text"
      },
      "source": [
        "<a href=\"https://colab.research.google.com/github/ALLASAIKAUSHI/python/blob/main/Datatypes_in_python.ipynb\" target=\"_parent\"><img src=\"https://colab.research.google.com/assets/colab-badge.svg\" alt=\"Open In Colab\"/></a>"
      ]
    },
    {
      "cell_type": "markdown",
      "id": "6a368875",
      "metadata": {
        "id": "6a368875"
      },
      "source": [
        "## AVERAGE OF THREE NUMBERS"
      ]
    },
    {
      "cell_type": "code",
      "execution_count": null,
      "id": "c03d963d",
      "metadata": {
        "id": "c03d963d",
        "outputId": "83c4e6a3-9b12-4195-ba07-97b88e051489"
      },
      "outputs": [
        {
          "name": "stdout",
          "output_type": "stream",
          "text": [
            "2.6666666666666665\n"
          ]
        }
      ],
      "source": [
        "a=1\n",
        "b=4\n",
        "c=3\n",
        "d=(a+b+c)/3\n",
        "print(d)"
      ]
    },
    {
      "cell_type": "markdown",
      "id": "13e5e991",
      "metadata": {
        "id": "13e5e991"
      },
      "source": [
        "## CONVERTING INTO STRING,FLOAT,BOOLEAN,COMPLEX"
      ]
    },
    {
      "cell_type": "code",
      "execution_count": null,
      "id": "6c4ad7c5",
      "metadata": {
        "id": "6c4ad7c5",
        "outputId": "2f82b47b-b0fa-428d-dbc5-ad5792d2443b"
      },
      "outputs": [
        {
          "name": "stdout",
          "output_type": "stream",
          "text": [
            "<class 'int'>\n",
            "10\n",
            "<class 'str'>\n",
            "10\n",
            "<class 'float'>\n",
            "10.0\n",
            "<class 'bool'>\n",
            "True\n",
            "<class 'int'>\n",
            "(10+0j)\n"
          ]
        }
      ],
      "source": [
        "a=10\n",
        "print(type(a))\n",
        "print(a)\n",
        "#before conversion//\n",
        "b=str(a)\n",
        "print(type(b))\n",
        "print(b)\n",
        "#after conversion//\n",
        "c=float(a)\n",
        "print(type(c))\n",
        "print(c)\n",
        "d=bool(a)\n",
        "print(type(d))\n",
        "print(d)\n",
        "e=complex(a)\n",
        "print(type(a))\n",
        "print(e)\n"
      ]
    },
    {
      "cell_type": "markdown",
      "id": "49791735",
      "metadata": {
        "id": "49791735"
      },
      "source": [
        "## CONVERTING STRING INTO OTHER FORMATS"
      ]
    },
    {
      "cell_type": "code",
      "execution_count": 1,
      "id": "6c23097d",
      "metadata": {
        "colab": {
          "base_uri": "https://localhost:8080/",
          "height": 269
        },
        "id": "6c23097d",
        "outputId": "20fb73ea-9a8a-4077-967e-7d7dde26326d"
      },
      "outputs": [
        {
          "output_type": "stream",
          "name": "stdout",
          "text": [
            "<class 'str'>\n",
            "sai kaushik\n"
          ]
        },
        {
          "output_type": "error",
          "ename": "ValueError",
          "evalue": "ignored",
          "traceback": [
            "\u001b[0;31m---------------------------------------------------------------------------\u001b[0m",
            "\u001b[0;31mValueError\u001b[0m                                Traceback (most recent call last)",
            "\u001b[0;32m<ipython-input-1-a21ad378156d>\u001b[0m in \u001b[0;36m<module>\u001b[0;34m()\u001b[0m\n\u001b[1;32m      3\u001b[0m \u001b[0mprint\u001b[0m\u001b[0;34m(\u001b[0m\u001b[0ma\u001b[0m\u001b[0;34m)\u001b[0m\u001b[0;34m\u001b[0m\u001b[0;34m\u001b[0m\u001b[0m\n\u001b[1;32m      4\u001b[0m \u001b[0;31m#before conversion\u001b[0m\u001b[0;34m\u001b[0m\u001b[0;34m\u001b[0m\u001b[0;34m\u001b[0m\u001b[0m\n\u001b[0;32m----> 5\u001b[0;31m \u001b[0mb\u001b[0m\u001b[0;34m=\u001b[0m\u001b[0mint\u001b[0m\u001b[0;34m(\u001b[0m\u001b[0ma\u001b[0m\u001b[0;34m)\u001b[0m\u001b[0;34m\u001b[0m\u001b[0;34m\u001b[0m\u001b[0m\n\u001b[0m\u001b[1;32m      6\u001b[0m \u001b[0;31m#cant convert alphabets into integers\u001b[0m\u001b[0;34m\u001b[0m\u001b[0;34m\u001b[0m\u001b[0;34m\u001b[0m\u001b[0m\n\u001b[1;32m      7\u001b[0m \u001b[0;31m#instead of alphabets give digits 0-9\u001b[0m\u001b[0;34m\u001b[0m\u001b[0;34m\u001b[0m\u001b[0;34m\u001b[0m\u001b[0m\n",
            "\u001b[0;31mValueError\u001b[0m: invalid literal for int() with base 10: 'sai kaushik'"
          ]
        }
      ],
      "source": [
        "a='sai kaushik'\n",
        "print(type(a))\n",
        "print(a)\n",
        "#before conversion\n",
        "b=int(a)\n",
        "#cant convert alphabets into integers\n",
        "#instead of alphabets give digits 0-9\n",
        "print(type(b))\n",
        "print(b)\n",
        "#after conversion\n",
        "c=float(a)\n",
        "print(type(c))\n",
        "print(c)\n",
        "d=bool(a)\n",
        "print(type(d))\n",
        "print(d)\n",
        "e=complex(a)\n",
        "print(type(a))\n",
        "print(e)\n"
      ]
    },
    {
      "cell_type": "markdown",
      "id": "a3481971",
      "metadata": {
        "id": "a3481971"
      },
      "source": [
        "## CONVERTING COMPLEX INTO OTHER FORMATS"
      ]
    },
    {
      "cell_type": "code",
      "execution_count": null,
      "id": "b49c7126",
      "metadata": {
        "id": "b49c7126",
        "outputId": "1f7801d6-0af0-435b-efd3-5b8d442731cd"
      },
      "outputs": [
        {
          "name": "stdout",
          "output_type": "stream",
          "text": [
            "<class 'complex'>\n",
            "(10+0j)\n"
          ]
        },
        {
          "ename": "TypeError",
          "evalue": "can't convert complex to int",
          "output_type": "error",
          "traceback": [
            "\u001b[1;31m---------------------------------------------------------------------------\u001b[0m",
            "\u001b[1;31mTypeError\u001b[0m                                 Traceback (most recent call last)",
            "\u001b[1;32m~\\AppData\\Local\\Temp/ipykernel_9332/1304657727.py\u001b[0m in \u001b[0;36m<module>\u001b[1;34m\u001b[0m\n\u001b[0;32m      4\u001b[0m \u001b[1;31m#before conversion\u001b[0m\u001b[1;33m\u001b[0m\u001b[1;33m\u001b[0m\u001b[0m\n\u001b[0;32m      5\u001b[0m \u001b[1;31m#cant convert complex into int\u001b[0m\u001b[1;33m\u001b[0m\u001b[1;33m\u001b[0m\u001b[0m\n\u001b[1;32m----> 6\u001b[1;33m \u001b[0mb\u001b[0m\u001b[1;33m=\u001b[0m\u001b[0mint\u001b[0m\u001b[1;33m(\u001b[0m\u001b[0ma\u001b[0m\u001b[1;33m)\u001b[0m\u001b[1;33m\u001b[0m\u001b[1;33m\u001b[0m\u001b[0m\n\u001b[0m\u001b[0;32m      7\u001b[0m \u001b[0mprint\u001b[0m\u001b[1;33m(\u001b[0m\u001b[0mtype\u001b[0m\u001b[1;33m(\u001b[0m\u001b[0mb\u001b[0m\u001b[1;33m)\u001b[0m\u001b[1;33m)\u001b[0m\u001b[1;33m\u001b[0m\u001b[1;33m\u001b[0m\u001b[0m\n\u001b[0;32m      8\u001b[0m \u001b[0mprint\u001b[0m\u001b[1;33m(\u001b[0m\u001b[0mb\u001b[0m\u001b[1;33m)\u001b[0m\u001b[1;33m\u001b[0m\u001b[1;33m\u001b[0m\u001b[0m\n",
            "\u001b[1;31mTypeError\u001b[0m: can't convert complex to int"
          ]
        }
      ],
      "source": [
        "a=(10+0j)\n",
        "print(type(a))\n",
        "print(a)\n",
        "#before conversion\n",
        "#cant convert complex into int\n",
        "b=int(a)\n",
        "print(type(b))\n",
        "print(b)\n",
        "#after conversion\n",
        "c=str(a)\n",
        "print(type(c))\n",
        "print(c)\n",
        "d=bool(a)\n",
        "print(type(d))\n",
        "print(d)\n",
        "e=float(a)\n",
        "print(type(a))\n",
        "print(e)\n"
      ]
    },
    {
      "cell_type": "markdown",
      "id": "14592f4d",
      "metadata": {
        "id": "14592f4d"
      },
      "source": [
        "## CONVERTING BOOLEAN INTO OTHER FORMAT"
      ]
    },
    {
      "cell_type": "code",
      "execution_count": null,
      "id": "442a893c",
      "metadata": {
        "id": "442a893c",
        "outputId": "cb218b0b-4f55-45e5-b20e-5d8e2a3ebcc3"
      },
      "outputs": [
        {
          "name": "stdout",
          "output_type": "stream",
          "text": [
            "<class 'bool'>\n",
            "True\n",
            "<class 'int'>\n",
            "1\n",
            "<class 'str'>\n",
            "True\n",
            "<class 'complex'>\n",
            "(1+0j)\n",
            "<class 'bool'>\n",
            "1.0\n"
          ]
        }
      ],
      "source": [
        "a=True\n",
        "print(type(a))\n",
        "print(a)\n",
        "#before conversion\n",
        "b=int(a)\n",
        "print(type(b))\n",
        "print(b)\n",
        "#after conversion\n",
        "c=str(a)\n",
        "print(type(c))\n",
        "print(c)\n",
        "d=complex(a)\n",
        "print(type(d))\n",
        "print(d)\n",
        "e=float(a)\n",
        "print(type(a))\n",
        "print(e)"
      ]
    },
    {
      "cell_type": "markdown",
      "id": "6491c5d8",
      "metadata": {
        "id": "6491c5d8"
      },
      "source": [
        "## CONVERTING FLOAT INTO OTHER FORMAT"
      ]
    },
    {
      "cell_type": "code",
      "execution_count": null,
      "id": "0e8072ef",
      "metadata": {
        "id": "0e8072ef",
        "outputId": "0cbda32d-6233-44d3-fa7f-7d5b4cc893c0"
      },
      "outputs": [
        {
          "name": "stdout",
          "output_type": "stream",
          "text": [
            "<class 'float'>\n",
            "10.0\n",
            "<class 'int'>\n",
            "10\n",
            "<class 'str'>\n",
            "10.0\n",
            "<class 'complex'>\n",
            "(10+0j)\n",
            "<class 'float'>\n",
            "True\n"
          ]
        }
      ],
      "source": [
        "a=10.0\n",
        "print(type(a))\n",
        "print(a)\n",
        "#before conversion\n",
        "b=int(a)\n",
        "print(type(b))\n",
        "print(b)\n",
        "#after conversion\n",
        "c=str(a)\n",
        "print(type(c))\n",
        "print(c)\n",
        "d=complex(a)\n",
        "print(type(d))\n",
        "print(d)\n",
        "e=bool(a)\n",
        "print(type(a))\n",
        "print(e)"
      ]
    },
    {
      "cell_type": "code",
      "execution_count": null,
      "id": "71958c61",
      "metadata": {
        "id": "71958c61"
      },
      "outputs": [],
      "source": [
        ""
      ]
    }
  ],
  "metadata": {
    "kernelspec": {
      "display_name": "Python 3 (ipykernel)",
      "language": "python",
      "name": "python3"
    },
    "language_info": {
      "codemirror_mode": {
        "name": "ipython",
        "version": 3
      },
      "file_extension": ".py",
      "mimetype": "text/x-python",
      "name": "python",
      "nbconvert_exporter": "python",
      "pygments_lexer": "ipython3",
      "version": "3.9.7"
    },
    "colab": {
      "name": "Datatypes_in_python.ipynb",
      "provenance": [],
      "include_colab_link": true
    }
  },
  "nbformat": 4,
  "nbformat_minor": 5
}