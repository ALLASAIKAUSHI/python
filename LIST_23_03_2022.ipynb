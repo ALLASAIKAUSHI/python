{
  "nbformat": 4,
  "nbformat_minor": 0,
  "metadata": {
    "colab": {
      "name": "LIST 23-03-2022.ipynb",
      "provenance": [],
      "authorship_tag": "ABX9TyOo1Z/HOy5ICjW64RM97sb4",
      "include_colab_link": true
    },
    "kernelspec": {
      "name": "python3",
      "display_name": "Python 3"
    },
    "language_info": {
      "name": "python"
    }
  },
  "cells": [
    {
      "cell_type": "markdown",
      "metadata": {
        "id": "view-in-github",
        "colab_type": "text"
      },
      "source": [
        "<a href=\"https://colab.research.google.com/github/ALLASAIKAUSHI/python/blob/module1/LIST_23_03_2022.ipynb\" target=\"_parent\"><img src=\"https://colab.research.google.com/assets/colab-badge.svg\" alt=\"Open In Colab\"/></a>"
      ]
    },
    {
      "cell_type": "code",
      "execution_count": 36,
      "metadata": {
        "colab": {
          "base_uri": "https://localhost:8080/",
          "height": 200
        },
        "id": "0ZaU4tGz4a39",
        "outputId": "7836582a-8832-46c3-f8a8-beef702a0037"
      },
      "outputs": [
        {
          "output_type": "error",
          "ename": "NameError",
          "evalue": "ignored",
          "traceback": [
            "\u001b[0;31m---------------------------------------------------------------------------\u001b[0m",
            "\u001b[0;31mNameError\u001b[0m                                 Traceback (most recent call last)",
            "\u001b[0;32m<ipython-input-36-52aadc88284d>\u001b[0m in \u001b[0;36m<module>\u001b[0;34m()\u001b[0m\n\u001b[1;32m      1\u001b[0m \u001b[0mfruit\u001b[0m\u001b[0;34m=\u001b[0m\u001b[0;34m[\u001b[0m\u001b[0;34m\"apple\"\u001b[0m\u001b[0;34m,\u001b[0m\u001b[0;34m\"pineapple\"\u001b[0m\u001b[0;34m,\u001b[0m\u001b[0;34m\"grapes\"\u001b[0m\u001b[0;34m]\u001b[0m\u001b[0;34m\u001b[0m\u001b[0;34m\u001b[0m\u001b[0m\n\u001b[0;32m----> 2\u001b[0;31m \u001b[0mfruits\u001b[0m\u001b[0;34m.\u001b[0m\u001b[0mappend\u001b[0m\u001b[0;34m(\u001b[0m\u001b[0;34m\"strawberry\"\u001b[0m\u001b[0;34m)\u001b[0m\u001b[0;34m\u001b[0m\u001b[0;34m\u001b[0m\u001b[0m\n\u001b[0m\u001b[1;32m      3\u001b[0m \u001b[0mprint\u001b[0m\u001b[0;34m(\u001b[0m\u001b[0mfruits\u001b[0m\u001b[0;34m)\u001b[0m\u001b[0;34m\u001b[0m\u001b[0;34m\u001b[0m\u001b[0m\n",
            "\u001b[0;31mNameError\u001b[0m: name 'fruits' is not defined"
          ]
        }
      ],
      "source": [
        "fruit=[\"apple\",\"pineapple\",\"grapes\"]\n",
        "fruits.append(\"strawberry\")\n",
        "print(fruits)"
      ]
    },
    {
      "cell_type": "code",
      "source": [
        "N=[53 , 34 ,45 , 36]\n",
        "N[2]\n",
        "N[0]+N[3]"
      ],
      "metadata": {
        "colab": {
          "base_uri": "https://localhost:8080/"
        },
        "id": "tzoXlC2h6iib",
        "outputId": "8065ab75-488b-4482-e254-072363dbec55"
      },
      "execution_count": 21,
      "outputs": [
        {
          "output_type": "execute_result",
          "data": {
            "text/plain": [
              "89"
            ]
          },
          "metadata": {},
          "execution_count": 21
        }
      ]
    },
    {
      "cell_type": "code",
      "source": [
        "fruit=[\"apple\",\"pineapple\",\"grapes\",\"orange\",\"watermellon\"]\n",
        "n=[53 , 34 ,45 , 36]\n",
        "print(fruit[3:])\n",
        "print(N[0]+N[3])\n"
      ],
      "metadata": {
        "colab": {
          "base_uri": "https://localhost:8080/"
        },
        "id": "PPs6LCkv-rJc",
        "outputId": "a7d0c287-4a70-4dd3-d709-d488aa21ca80"
      },
      "execution_count": 23,
      "outputs": [
        {
          "output_type": "stream",
          "name": "stdout",
          "text": [
            "['orange', 'watermellon']\n",
            "89\n"
          ]
        }
      ]
    },
    {
      "cell_type": "code",
      "source": [
        "fruits = [\"apple\", \"banana\", \"cherry\"]\n",
        "\n",
        "fruits.append(\"orange\")\n",
        "\n",
        "print(fruits)\n"
      ],
      "metadata": {
        "colab": {
          "base_uri": "https://localhost:8080/"
        },
        "id": "ELlXusVA_8xs",
        "outputId": "76b79db0-dc42-4f21-fb60-0fc14655453a"
      },
      "execution_count": 37,
      "outputs": [
        {
          "output_type": "stream",
          "name": "stdout",
          "text": [
            "['apple', 'banana', 'cherry', 'orange']\n"
          ]
        }
      ]
    },
    {
      "cell_type": "code",
      "source": [
        "fruit=[\"apple\",\"pineapple\",\"grapes\",\"orange\",\"watermellon\"]\n",
        "\n",
        "\n",
        "\n",
        "fruit.insert(1,3:\"good boy\",\"kaushik\")\n",
        "\n",
        "print(fruit)"
      ],
      "metadata": {
        "colab": {
          "base_uri": "https://localhost:8080/",
          "height": 130
        },
        "id": "0gsW6VEcFe4O",
        "outputId": "0f2a4ccd-1943-42b1-ad29-fa14de04fef8"
      },
      "execution_count": 54,
      "outputs": [
        {
          "output_type": "error",
          "ename": "SyntaxError",
          "evalue": "ignored",
          "traceback": [
            "\u001b[0;36m  File \u001b[0;32m\"<ipython-input-54-aa9092e16137>\"\u001b[0;36m, line \u001b[0;32m5\u001b[0m\n\u001b[0;31m    fruit.insert(1,3:\"good boy\",\"kaushik\")\u001b[0m\n\u001b[0m                    ^\u001b[0m\n\u001b[0;31mSyntaxError\u001b[0m\u001b[0;31m:\u001b[0m invalid syntax\n"
          ]
        }
      ]
    },
    {
      "cell_type": "code",
      "source": [
        ""
      ],
      "metadata": {
        "id": "JZSlQlPxGAj0"
      },
      "execution_count": null,
      "outputs": []
    }
  ]
}