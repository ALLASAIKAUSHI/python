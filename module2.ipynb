{
  "nbformat": 4,
  "nbformat_minor": 0,
  "metadata": {
    "colab": {
      "name": "module2.ipynb",
      "provenance": [],
      "authorship_tag": "ABX9TyPU0b+uAUtnzKWYSVS74dQL",
      "include_colab_link": true
    },
    "kernelspec": {
      "name": "python3",
      "display_name": "Python 3"
    },
    "language_info": {
      "name": "python"
    }
  },
  "cells": [
    {
      "cell_type": "markdown",
      "metadata": {
        "id": "view-in-github",
        "colab_type": "text"
      },
      "source": [
        "<a href=\"https://colab.research.google.com/github/ALLASAIKAUSHI/python/blob/module2/module2.ipynb\" target=\"_parent\"><img src=\"https://colab.research.google.com/assets/colab-badge.svg\" alt=\"Open In Colab\"/></a>"
      ]
    },
    {
      "cell_type": "code",
      "execution_count": 36,
      "metadata": {
        "colab": {
          "base_uri": "https://localhost:8080/"
        },
        "id": "5yRqz8iFHf_I",
        "outputId": "0b6b9445-08a2-417f-e7b3-477a11bf1469"
      },
      "outputs": [
        {
          "output_type": "stream",
          "name": "stdout",
          "text": [
            "['Green', 'White', 'Black']\n"
          ]
        }
      ],
      "source": [
        "## Program to print a specified list after removing the 0th, 4th and 5th elements.\n",
        "def colour():\n",
        "    lists=['Red', 'Green', 'White', 'Black', 'Pink', 'Yellow'] \n",
        "    lists.pop(5)\n",
        "    lists.pop(4)\n",
        "    lists.pop(0)\n",
        "    print(lists)\n",
        "colour()\n",
        "\n"
      ]
    },
    {
      "cell_type": "code",
      "source": [
        "##Program to get the difference between the two lists\n",
        "\n"
      ],
      "metadata": {
        "id": "1SKDEQVoUJ0y"
      },
      "execution_count": null,
      "outputs": []
    }
  ]
}